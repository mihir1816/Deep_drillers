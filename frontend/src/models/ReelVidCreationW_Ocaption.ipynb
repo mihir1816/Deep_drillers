{
  "nbformat": 4,
  "nbformat_minor": 0,
  "metadata": {
    "colab": {
      "provenance": []
    },
    "kernelspec": {
      "name": "python3",
      "display_name": "Python 3"
    },
    "language_info": {
      "name": "python"
    }
  },
  "cells": [
    {
      "cell_type": "code",
      "execution_count": 11,
      "metadata": {
        "colab": {
          "base_uri": "https://localhost:8080/"
        },
        "id": "QMgShja0NMeu",
        "outputId": "8e125915-305f-457f-b9fc-a8102a4c909f"
      },
      "outputs": [
        {
          "output_type": "stream",
          "name": "stdout",
          "text": [
            "Requirement already satisfied: moviepy in /usr/local/lib/python3.11/dist-packages (1.0.3)\n",
            "Requirement already satisfied: decorator<5.0,>=4.0.2 in /usr/local/lib/python3.11/dist-packages (from moviepy) (4.4.2)\n",
            "Requirement already satisfied: imageio<3.0,>=2.5 in /usr/local/lib/python3.11/dist-packages (from moviepy) (2.36.1)\n",
            "Requirement already satisfied: imageio_ffmpeg>=0.2.0 in /usr/local/lib/python3.11/dist-packages (from moviepy) (0.6.0)\n",
            "Requirement already satisfied: tqdm<5.0,>=4.11.2 in /usr/local/lib/python3.11/dist-packages (from moviepy) (4.67.1)\n",
            "Requirement already satisfied: numpy>=1.17.3 in /usr/local/lib/python3.11/dist-packages (from moviepy) (1.26.4)\n",
            "Requirement already satisfied: requests<3.0,>=2.8.1 in /usr/local/lib/python3.11/dist-packages (from moviepy) (2.32.3)\n",
            "Requirement already satisfied: proglog<=1.0.0 in /usr/local/lib/python3.11/dist-packages (from moviepy) (0.1.10)\n",
            "Requirement already satisfied: pillow>=8.3.2 in /usr/local/lib/python3.11/dist-packages (from imageio<3.0,>=2.5->moviepy) (11.1.0)\n",
            "Requirement already satisfied: charset-normalizer<4,>=2 in /usr/local/lib/python3.11/dist-packages (from requests<3.0,>=2.8.1->moviepy) (3.4.1)\n",
            "Requirement already satisfied: idna<4,>=2.5 in /usr/local/lib/python3.11/dist-packages (from requests<3.0,>=2.8.1->moviepy) (3.10)\n",
            "Requirement already satisfied: urllib3<3,>=1.21.1 in /usr/local/lib/python3.11/dist-packages (from requests<3.0,>=2.8.1->moviepy) (2.3.0)\n",
            "Requirement already satisfied: certifi>=2017.4.17 in /usr/local/lib/python3.11/dist-packages (from requests<3.0,>=2.8.1->moviepy) (2024.12.14)\n",
            "Collecting pydub\n",
            "  Downloading pydub-0.25.1-py2.py3-none-any.whl.metadata (1.4 kB)\n",
            "Downloading pydub-0.25.1-py2.py3-none-any.whl (32 kB)\n",
            "Installing collected packages: pydub\n",
            "Successfully installed pydub-0.25.1\n"
          ]
        }
      ],
      "source": [
        "!pip install moviepy\n",
        "!pip install pydub"
      ]
    },
    {
      "cell_type": "code",
      "source": [
        "from moviepy.editor import VideoFileClip, AudioFileClip, CompositeAudioClip\n",
        "import os\n",
        "\n",
        "def process_videos(video_files, audio_file, output_dir=\"output\"):\n",
        "    # Create output directory if it doesn't exist\n",
        "    if not os.path.exists(output_dir):\n",
        "        os.makedirs(output_dir)\n",
        "\n",
        "    # Load the audio file\n",
        "    audio_clip = AudioFileClip(audio_file)\n",
        "    audio_duration = audio_clip.duration\n",
        "\n",
        "    for i, video_file in enumerate(video_files):\n",
        "        # Load the video file\n",
        "        video_clip = VideoFileClip(video_file)\n",
        "\n",
        "        # Cut the video to the duration of the audio\n",
        "        video_clip = video_clip.subclip(0, min(video_clip.duration, audio_duration))\n",
        "\n",
        "        # If the video has its own audio, mix it with the provided audio\n",
        "        if video_clip.audio is not None:\n",
        "            final_audio = CompositeAudioClip([video_clip.audio, audio_clip])\n",
        "        else:\n",
        "            final_audio = audio_clip\n",
        "\n",
        "        # Set the final audio to the video\n",
        "        final_clip = video_clip.set_audio(final_audio)\n",
        "\n",
        "        # Save the final video\n",
        "        output_file = os.path.join(output_dir, f\"output_video_{i+1}.mp4\")\n",
        "        final_clip.write_videofile(output_file, codec=\"libx264\")\n",
        "\n",
        "        # Close the clips to free up resources\n",
        "        video_clip.close()\n",
        "        final_clip.close()\n",
        "\n",
        "    audio_clip.close()\n",
        "\n",
        "if __name__ == \"__main__\":\n",
        "    # List of video files (you can modify this to upload files via a GUI or other means)\n",
        "    #video_files = [\"video1.mp4\", \"video2.mp4\", \"video3.mp4\", \"video4.mp4\", \"video5.mp4\"]\n",
        "\n",
        "    # Audio file to overlap with the videos\n",
        "    audio_file = \"/content/narration.mp3\"\n",
        "\n",
        "    # Process the videos\n",
        "    process_videos([\"/content/reelvid2.mp4\"], audio_file)\n",
        "\n"
      ],
      "metadata": {
        "colab": {
          "base_uri": "https://localhost:8080/"
        },
        "id": "rUpcf3D8NUHJ",
        "outputId": "b706c506-93d4-4a79-c532-4c2c513752ac"
      },
      "execution_count": 14,
      "outputs": [
        {
          "output_type": "stream",
          "name": "stdout",
          "text": [
            "Moviepy - Building video output/output_video_1.mp4.\n",
            "MoviePy - Writing audio in output_video_1TEMP_MPY_wvf_snd.mp3\n"
          ]
        },
        {
          "output_type": "stream",
          "name": "stderr",
          "text": []
        },
        {
          "output_type": "stream",
          "name": "stdout",
          "text": [
            "MoviePy - Done.\n",
            "Moviepy - Writing video output/output_video_1.mp4\n",
            "\n"
          ]
        },
        {
          "output_type": "stream",
          "name": "stderr",
          "text": []
        },
        {
          "output_type": "stream",
          "name": "stdout",
          "text": [
            "Moviepy - Done !\n",
            "Moviepy - video ready output/output_video_1.mp4\n"
          ]
        }
      ]
    },
    {
      "cell_type": "code",
      "source": [
        "from pydub import AudioSegment\n",
        "import speech_recognition as sr\n",
        "\n",
        "def convert_mp3_to_wav(mp3_file, wav_file):\n",
        "    # Load the MP3 file\n",
        "    audio = AudioSegment.from_mp3(mp3_file)\n",
        "    # Export as WAV\n",
        "    audio.export(wav_file, format=\"wav\")\n",
        "\n",
        "def extract_text_from_audio(audio_file):\n",
        "    # Initialize recognizer\n",
        "    recognizer = sr.Recognizer()\n",
        "\n",
        "    # Load the audio file\n",
        "    with sr.AudioFile(audio_file) as source:\n",
        "        # Adjust for ambient noise (optional)\n",
        "        recognizer.adjust_for_ambient_noise(source)\n",
        "        # Record the audio\n",
        "        audio = recognizer.record(source)\n",
        "\n",
        "        try:\n",
        "            # Recognize speech using Google Web Speech API\n",
        "            text = recognizer.recognize_google(audio)\n",
        "            return text\n",
        "        except sr.UnknownValueError:\n",
        "            return \"Google Web Speech API could not understand the audio.\"\n",
        "        except sr.RequestError as e:\n",
        "            return f\"Could not request results from Google Web Speech API; {e}\"\n",
        "\n",
        "# Example usage\n",
        "mp3_file = \"/content/podcast5.mp3\"  # Replace with your MP3 file path\n",
        "wav_file = \"output_audio.wav\"  # Temporary WAV file\n",
        "\n",
        "# Convert MP3 to WAV\n",
        "convert_mp3_to_wav(mp3_file, wav_file)\n",
        "\n",
        "# Extract text from the WAV file\n",
        "text = extract_text_from_audio(wav_file)\n",
        "print(\"Extracted Text:\", text)"
      ],
      "metadata": {
        "colab": {
          "base_uri": "https://localhost:8080/",
          "height": 383
        },
        "id": "ZUZvJ7D1gBnf",
        "outputId": "6093e39c-dc2e-4b23-d98b-18e8f013a462"
      },
      "execution_count": null,
      "outputs": [
        {
          "output_type": "error",
          "ename": "ModuleNotFoundError",
          "evalue": "No module named 'speech_recognition'",
          "traceback": [
            "\u001b[0;31m---------------------------------------------------------------------------\u001b[0m",
            "\u001b[0;31mModuleNotFoundError\u001b[0m                       Traceback (most recent call last)",
            "\u001b[0;32m<ipython-input-6-08e7cb1ff66d>\u001b[0m in \u001b[0;36m<cell line: 0>\u001b[0;34m()\u001b[0m\n\u001b[1;32m      1\u001b[0m \u001b[0;32mfrom\u001b[0m \u001b[0mpydub\u001b[0m \u001b[0;32mimport\u001b[0m \u001b[0mAudioSegment\u001b[0m\u001b[0;34m\u001b[0m\u001b[0;34m\u001b[0m\u001b[0m\n\u001b[0;32m----> 2\u001b[0;31m \u001b[0;32mimport\u001b[0m \u001b[0mspeech_recognition\u001b[0m \u001b[0;32mas\u001b[0m \u001b[0msr\u001b[0m\u001b[0;34m\u001b[0m\u001b[0;34m\u001b[0m\u001b[0m\n\u001b[0m\u001b[1;32m      3\u001b[0m \u001b[0;34m\u001b[0m\u001b[0m\n\u001b[1;32m      4\u001b[0m \u001b[0;32mdef\u001b[0m \u001b[0mconvert_mp3_to_wav\u001b[0m\u001b[0;34m(\u001b[0m\u001b[0mmp3_file\u001b[0m\u001b[0;34m,\u001b[0m \u001b[0mwav_file\u001b[0m\u001b[0;34m)\u001b[0m\u001b[0;34m:\u001b[0m\u001b[0;34m\u001b[0m\u001b[0;34m\u001b[0m\u001b[0m\n\u001b[1;32m      5\u001b[0m     \u001b[0;31m# Load the MP3 file\u001b[0m\u001b[0;34m\u001b[0m\u001b[0;34m\u001b[0m\u001b[0m\n",
            "\u001b[0;31mModuleNotFoundError\u001b[0m: No module named 'speech_recognition'",
            "",
            "\u001b[0;31m---------------------------------------------------------------------------\u001b[0;32m\nNOTE: If your import is failing due to a missing package, you can\nmanually install dependencies using either !pip or !apt.\n\nTo view examples of installing some common dependencies, click the\n\"Open Examples\" button below.\n\u001b[0;31m---------------------------------------------------------------------------\u001b[0m\n"
          ],
          "errorDetails": {
            "actions": [
              {
                "action": "open_url",
                "actionText": "Open Examples",
                "url": "/notebooks/snippets/importing_libraries.ipynb"
              }
            ]
          }
        }
      ]
    },
    {
      "cell_type": "code",
      "source": [],
      "metadata": {
        "id": "8KPfzJ87gCTT"
      },
      "execution_count": null,
      "outputs": []
    }
  ]
}